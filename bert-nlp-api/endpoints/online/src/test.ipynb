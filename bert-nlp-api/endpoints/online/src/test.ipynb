{
 "cells": [
  {
   "cell_type": "code",
   "execution_count": 2,
   "metadata": {},
   "outputs": [],
   "source": [
    "import jsonschema, json"
   ]
  },
  {
   "cell_type": "code",
   "execution_count": 10,
   "metadata": {},
   "outputs": [
    {
     "data": {
      "text/plain": [
       "{'$schema': 'http://json-schema.org/draft-04/schema#',\n",
       " 'type': 'object',\n",
       " 'additionalProperties': False,\n",
       " 'required': ['data'],\n",
       " 'properties': {'data': {'type': 'array',\n",
       "   'items': {'type': 'string'},\n",
       "   'minItmes': 1}}}"
      ]
     },
     "execution_count": 10,
     "metadata": {},
     "output_type": "execute_result"
    }
   ],
   "source": [
    "with open(\"./config/check_file_schema.json\", \"r\") as f:\n",
    "    json_schema = json.load(f)\n",
    "json_schema"
   ]
  },
  {
   "cell_type": "code",
   "execution_count": 11,
   "metadata": {},
   "outputs": [
    {
     "data": {
      "text/plain": [
       "{'data': [123]}"
      ]
     },
     "execution_count": 11,
     "metadata": {},
     "output_type": "execute_result"
    }
   ],
   "source": [
    "# with open(\"../sample-text-request-ok.json\", \"r\", encoding=\"utf-8\") as f:\n",
    "with open(\"../sample-text-request-error2.json\", \"r\", encoding=\"utf-8\") as f:\n",
    "    req = json.load(f)\n",
    "req"
   ]
  },
  {
   "cell_type": "code",
   "execution_count": 13,
   "metadata": {},
   "outputs": [
    {
     "name": "stdout",
     "output_type": "stream",
     "text": [
      "Invalid JSON - 123 is not of type 'string'\n"
     ]
    }
   ],
   "source": [
    "try:\n",
    "    jsonschema.validate(req, json_schema)\n",
    "except jsonschema.ValidationError as e:\n",
    "    print(f\"Invalid JSON - {e.message}\")"
   ]
  }
 ],
 "metadata": {
  "kernelspec": {
   "display_name": "Python 3.10.5 64-bit",
   "language": "python",
   "name": "python3"
  },
  "language_info": {
   "codemirror_mode": {
    "name": "ipython",
    "version": 3
   },
   "file_extension": ".py",
   "mimetype": "text/x-python",
   "name": "python",
   "nbconvert_exporter": "python",
   "pygments_lexer": "ipython3",
   "version": "3.10.5"
  },
  "orig_nbformat": 4,
  "vscode": {
   "interpreter": {
    "hash": "2f80fd9d970a87e3bab28be483655659e5de72141ad554ade49a08f6532b9ba5"
   }
  }
 },
 "nbformat": 4,
 "nbformat_minor": 2
}
